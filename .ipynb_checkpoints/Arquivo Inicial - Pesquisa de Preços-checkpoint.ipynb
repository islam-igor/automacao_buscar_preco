{
 "cells": [
  {
   "cell_type": "markdown",
   "metadata": {},
   "source": [
    "# Projeto Automação Web - Busca de Preços\n",
    "\n",
    "### Objetivo: treinar um projeto em que a gente tenha que usar automações web com Selenium para buscar as informações que precisamos\n",
    "\n",
    "- Já fizemos um projeto com esse objetivo no Módulo de Python e Web e em gravações de encontros ao vivo, mas não custa nada treinar mais um pouco.\n",
    "\n",
    "### Como vai funcionar:\n",
    "\n",
    "- Imagina que você trabalha na área de compras de uma empresa e precisa fazer uma comparação de fornecedores para os seus insumos/produtos.\n",
    "\n",
    "- Nessa hora, você vai constantemente buscar nos sites desses fornecedores os produtos disponíveis e o preço, afinal, cada um deles pode fazer promoção em momentos diferentes e com valores diferentes.\n",
    "\n",
    "- Seu objetivo: Se o valor dos produtos for abaixo de um preço limite definido por você, você vai descobrir os produtos mais baratos e atualizar isso em uma planilha.\n",
    "- Em seguida, vai enviar um e-mail com a lista dos produtos abaixo do seu preço máximo de compra.\n",
    "\n",
    "- No nosso caso, vamos fazer com produtos comuns em sites como Google Shopping e Buscapé, mas a ideia é a mesma para outros sites.\n",
    "\n",
    "### Outra opção:\n",
    "\n",
    "- APIs\n",
    "\n",
    "### O que temos disponível?\n",
    "\n",
    "- Planilha de Produtos, com os nomes dos produtos, o preço máximo, o preço mínimo (para evitar produtos \"errados\" ou \"baratos de mais para ser verdade\" e os termos que vamos querer evitar nas nossas buscas.\n",
    "\n",
    "### O que devemos fazer:\n",
    "\n",
    "- Procurar cada produto no Google Shopping e pegar todos os resultados que tenham preço dentro da faixa e sejam os produtos corretos\n",
    "- O mesmo para o Buscapé\n",
    "- Enviar um e-mail para o seu e-mail (no caso da empresa seria para a área de compras por exemplo) com a notificação e a tabela com os itens e preços encontrados, junto com o link de compra. (Vou usar o e-mail pythonimpressionador@gmail.com. Use um e-mail seu para fazer os testes para ver se a mensagem está chegando)"
   ]
  },
  {
   "cell_type": "code",
   "execution_count": 161,
   "metadata": {},
   "outputs": [],
   "source": [
    "            # Passo a Passo\n",
    "\n",
    "# Importar as bibliotecas\n",
    "\n",
    "# Criar um navegador\n",
    "\n",
    "# Importar/visualizar/tratar a Base de dados\n",
    "\n",
    "# Para cada produto\n",
    "    # procurar produto no Google Shopping\n",
    "        # Verificar se o produto ta na faixa de preço indicada\n",
    "    # procurar produto no Buscapé\n",
    "        # Verificar se o produto ta na faixa de preço indicada\n",
    "\n",
    "# Salvar as ofertas em uma tabela\n",
    "\n",
    "# Exportar um arqivo com as informações da Tabela\n",
    "\n",
    "# Enviar por e-mail o resultado"
   ]
  },
  {
   "cell_type": "code",
   "execution_count": 162,
   "metadata": {},
   "outputs": [],
   "source": [
    "# Importar as bibliotecas\n",
    "import pandas as pd\n",
    "import time\n",
    "from selenium import webdriver\n",
    "from selenium.webdriver.common.keys import Keys\n",
    "from selenium.webdriver.common.by import By\n",
    "\n",
    "# LEMBRETE : SELENIUM DEVE ESTAR INSTALADO NO SEU COMPUTADOR!"
   ]
  },
  {
   "cell_type": "code",
   "execution_count": 163,
   "metadata": {},
   "outputs": [],
   "source": [
    "# Criar um navegador\n",
    "navegador = webdriver.Chrome()"
   ]
  },
  {
   "cell_type": "code",
   "execution_count": 164,
   "metadata": {},
   "outputs": [
    {
     "data": {
      "text/html": [
       "<div>\n",
       "<style scoped>\n",
       "    .dataframe tbody tr th:only-of-type {\n",
       "        vertical-align: middle;\n",
       "    }\n",
       "\n",
       "    .dataframe tbody tr th {\n",
       "        vertical-align: top;\n",
       "    }\n",
       "\n",
       "    .dataframe thead th {\n",
       "        text-align: right;\n",
       "    }\n",
       "</style>\n",
       "<table border=\"1\" class=\"dataframe\">\n",
       "  <thead>\n",
       "    <tr style=\"text-align: right;\">\n",
       "      <th></th>\n",
       "      <th>Nome</th>\n",
       "      <th>Termos banidos</th>\n",
       "      <th>Preço mínimo</th>\n",
       "      <th>Preço máximo</th>\n",
       "    </tr>\n",
       "  </thead>\n",
       "  <tbody>\n",
       "    <tr>\n",
       "      <th>0</th>\n",
       "      <td>iphone 12 64 gb</td>\n",
       "      <td>mini watch</td>\n",
       "      <td>3000</td>\n",
       "      <td>3500</td>\n",
       "    </tr>\n",
       "    <tr>\n",
       "      <th>1</th>\n",
       "      <td>rtx 3060</td>\n",
       "      <td>zota galax</td>\n",
       "      <td>4000</td>\n",
       "      <td>4500</td>\n",
       "    </tr>\n",
       "  </tbody>\n",
       "</table>\n",
       "</div>"
      ],
      "text/plain": [
       "              Nome Termos banidos  Preço mínimo  Preço máximo\n",
       "0  iphone 12 64 gb     mini watch          3000          3500\n",
       "1         rtx 3060     zota galax          4000          4500"
      ]
     },
     "metadata": {},
     "output_type": "display_data"
    }
   ],
   "source": [
    "# Importar/visualizar/tratar a Base de dados\n",
    "tabela_produtos = pd.read_excel(\"buscas.xlsx\")\n",
    "display(tabela_produtos)"
   ]
  },
  {
   "cell_type": "markdown",
   "metadata": {},
   "source": [
    "#### Definindo função de busca"
   ]
  },
  {
   "cell_type": "code",
   "execution_count": 165,
   "metadata": {},
   "outputs": [],
   "source": [
    "# Procurar produto no Google Shopping (transformando em uma função)\n",
    "\n",
    "def busca_google_shopping(navegador, produto, termos_banido, preco_min, preco_max):\n",
    "\n",
    "    # Entrar no Google\n",
    "    navegador.get('https://www.google.com/')\n",
    "\n",
    "    # tratar valores da tavela para pesquisa\n",
    "\n",
    "    produto = produto.lower() # garantir que não haja diferenciação de maisuculas e minusculas\n",
    "    lista_termos_produto = produto.split(' ')\n",
    "\n",
    "    termos_banido = termos_banido.lower() # garantir que não haja diferenciação de maisuculas e minusculas\n",
    "    lista_termos_banido = termos_banido.split(' ')\n",
    "\n",
    "    # Pesquisar\n",
    "    navegador.find_element(By.XPATH, '/html/body/div[1]/div[3]/form/div[1]/div[1]/div[1]/div/div[2]/input').send_keys(produto)\n",
    "    navegador.find_element(By.XPATH, '/html/body/div[1]/div[3]/form/div[1]/div[1]/div[1]/div/div[2]/input').send_keys(Keys.ENTER)\n",
    "\n",
    "    # Clicar em Shopping\n",
    "    elementos = navegador.find_elements(By.CLASS_NAME, 'hdtb-mitem')\n",
    "    for elemento in elementos:\n",
    "        if 'Shopping' in elemento.text:\n",
    "            elemento.click()\n",
    "            break\n",
    "        else:\n",
    "            navegador.find_element(By.CLASS_NAME, 'GOE98c').click()\n",
    "            elementos = navegador.find_elements(By.CLASS_NAME, 'tnhqA')\n",
    "            for elemento in elementos:\n",
    "                if 'Shopping' in elemento.text:\n",
    "                    print(elemento)\n",
    "                    elemento.click()\n",
    "                    break\n",
    "\n",
    "    # Pegar informações de descrição, preço e link e criar uma lista\n",
    "    cards = navegador.find_elements(By.CLASS_NAME, 'sh-dgr__grid-result')\n",
    "\n",
    "    lista_ofertas_google = []   # Lista para conter as informações dos produtos encontrados após filtragem\n",
    "    \n",
    "    for card in cards:\n",
    "        nome = card.find_element(By.CLASS_NAME, 'Xjkr3b').text # Busca Todos os Nomes de Produtos\n",
    "        nome = nome.lower() # garantir que não haja diferenciação de maisuculas e minusculas\n",
    "\n",
    "        tem_termos_banidos = False\n",
    "        for palavra in lista_termos_banido:   #filtra os itens evitando termos banidos\n",
    "            if palavra in nome:\n",
    "                tem_termos_banidos = True\n",
    "\n",
    "        tem_todos_termos_produto = True\n",
    "        for palavra in lista_termos_produto:   #filtra os itens garantindo que tenha todos os termos da pesquisa\n",
    "            if palavra not in nome:\n",
    "                tem_todos_termos_produto = False\n",
    "\n",
    "        # Se tem todos os termos do produto e não tem termos banidos, queremos verificar o preço.\n",
    "        if not tem_termos_banidos and tem_todos_termos_produto:\n",
    "            try:\n",
    "                preco = card.find_element(By.CLASS_NAME, 'a8Pemb').text # vem em formato de texto e com R$, deve ser tratado\n",
    "            except:\n",
    "                preco = navegador.find_element(By.CLASS_NAME, '_-pS').text\n",
    "            preco = preco.replace('R$', '').replace(' ','').replace('.','').replace(',','.')\n",
    "            preco = float(preco)\n",
    "\n",
    "        # verificando se o preço está dentro do preço mínimo e máximo\n",
    "\n",
    "            preco_max = float(preco_max)\n",
    "            preco_min = float(preco_min)\n",
    "            if preco_min <= preco <= preco_max:  \n",
    "                elemento_link = card.find_element(By.CLASS_NAME, 'aULzUe')\n",
    "                elemento_pai = elemento_link.find_element(By.XPATH, '..')\n",
    "                link = elemento_pai.get_attribute('href')\n",
    "                lista_ofertas_google.append((nome, preco, link))\n",
    "    return lista_ofertas_google"
   ]
  },
  {
   "cell_type": "code",
   "execution_count": 167,
   "metadata": {},
   "outputs": [
    {
     "data": {
      "text/plain": [
       "[('apple iphone 12 dual sim 64 gb lte (preto) mggm3za / a hk spec + garantia de 2 anos!',\n",
       "  3299.0,\n",
       "  'https://www.google.com/url?url=https://jobsimports.com.br/produtos/iphone-12-64gb-grade-a-excelente/%3Fpf%3Dgs&rct=j&q=&esrc=s&sa=U&ved=0ahUKEwiFrvfl65b5AhUhGbkGHamhC_MQguUECJgO&usg=AOvVaw08-QW8R78wy0zv0wQrSslQ'),\n",
       " ('iphone 11 branco, com tela de 6,1, 4g, 64 gb e câmera de 12 mp - mhdc3bz/a',\n",
       "  3399.0,\n",
       "  'https://www.google.com/url?url=https://www.novomundo.com.br/iphone-11-branco-com-tela-de-61--4g-64-gb-e-camera-de-12-mp---mhdc3bz-a-4618591/p%3Fidsku%3D3679633%26utm_source%3Dgoogle_shopping%26utm_medium%3Dorganic&rct=j&q=&esrc=s&sa=U&ved=0ahUKEwiFrvfl65b5AhUhGbkGHamhC_MQguUECIYP&usg=AOvVaw3Cci_OTKPJispIqGw6FNsx'),\n",
       " ('iphone 11 preto, com tela de 6,1, 4g, 64 gb e câmera de 12 mp - mhda3bz/a',\n",
       "  3463.95,\n",
       "  'https://www.google.com/url?url=https://compras.parquedpedro.com.br/iphone-11-preto-com-tela-de-61--4g-64-gb-e-camera-de-12-mp---mhda3bz-a-33343/p%3Fidsku%3D58155&rct=j&q=&esrc=s&sa=U&ved=0ahUKEwiFrvfl65b5AhUhGbkGHamhC_MQguUECMYQ&usg=AOvVaw19YuyTs2BaUS5rYbgAI5xQ'),\n",
       " ('iphone 12 (64gb) - grade a - excelente (azul)',\n",
       "  3299.0,\n",
       "  'https://www.google.com/url?url=https://jobsimports.com.br/produtos/iphone-12-64gb-grade-a-excelente/%3Fpf%3Dgs&rct=j&q=&esrc=s&sa=U&ved=0ahUKEwiFrvfl65b5AhUhGbkGHamhC_MQgOUECNMR&usg=AOvVaw3TDLasZFy64aMTFWJc8vPC'),\n",
       " ('iphone 11 pro, com tela de 5,8\", 4g, 64 gb e câmera de 12 mp',\n",
       "  3298.97,\n",
       "  'https://www.google.com/url?url=https://www.outletfone.com.br/iphone-11-pro-dourado-com-tela-de-5-8-4g.html&rct=j&q=&esrc=s&sa=U&ved=0ahUKEwiFrvfl65b5AhUhGbkGHamhC_MQgOUECPoS&usg=AOvVaw3WTDhD3vWYKxVIwjs_xCfw')]"
      ]
     },
     "execution_count": 167,
     "metadata": {},
     "output_type": "execute_result"
    }
   ],
   "source": [
    "# variáveis \n",
    "\n",
    "produto = 'iphone 12 64 gb'\n",
    "termos_banido = 'mini watch'\n",
    "preco_min = 3000\n",
    "preco_max = 3500\n",
    "\n",
    "busca_google_shopping(navegador, produto, termos_banido, preco_min, preco_max)"
   ]
  },
  {
   "cell_type": "code",
   "execution_count": null,
   "metadata": {},
   "outputs": [],
   "source": []
  },
  {
   "cell_type": "code",
   "execution_count": null,
   "metadata": {},
   "outputs": [],
   "source": []
  }
 ],
 "metadata": {
  "kernelspec": {
   "display_name": "Python 3 (ipykernel)",
   "language": "python",
   "name": "python3"
  },
  "language_info": {
   "codemirror_mode": {
    "name": "ipython",
    "version": 3
   },
   "file_extension": ".py",
   "mimetype": "text/x-python",
   "name": "python",
   "nbconvert_exporter": "python",
   "pygments_lexer": "ipython3",
   "version": "3.9.12"
  }
 },
 "nbformat": 4,
 "nbformat_minor": 4
}
